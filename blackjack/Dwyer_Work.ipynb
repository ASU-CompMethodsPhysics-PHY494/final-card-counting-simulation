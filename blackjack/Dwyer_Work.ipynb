{
 "cells": [
  {
   "cell_type": "code",
   "execution_count": 1,
   "metadata": {
    "collapsed": false
   },
   "outputs": [],
   "source": [
    "import blackjacktools"
   ]
  },
  {
   "cell_type": "code",
   "execution_count": 2,
   "metadata": {
    "collapsed": false
   },
   "outputs": [],
   "source": [
    "deck = blackjacktools.Deck()"
   ]
  },
  {
   "cell_type": "code",
   "execution_count": 3,
   "metadata": {
    "collapsed": false
   },
   "outputs": [
    {
     "name": "stdout",
     "output_type": "stream",
     "text": [
      "Number of Cards: 156\n",
      "2 of Clubs\n",
      "2 of Spades\n",
      "2 of Hearts\n",
      "2 of Diamonds\n",
      "3 of Clubs\n",
      "3 of Spades\n",
      "3 of Hearts\n",
      "3 of Diamonds\n",
      "4 of Clubs\n",
      "4 of Spades\n",
      "4 of Hearts\n",
      "4 of Diamonds\n",
      "5 of Clubs\n",
      "5 of Spades\n",
      "5 of Hearts\n",
      "5 of Diamonds\n",
      "6 of Clubs\n",
      "6 of Spades\n",
      "6 of Hearts\n",
      "6 of Diamonds\n",
      "7 of Clubs\n",
      "7 of Spades\n",
      "7 of Hearts\n",
      "7 of Diamonds\n",
      "8 of Clubs\n",
      "8 of Spades\n",
      "8 of Hearts\n",
      "8 of Diamonds\n",
      "9 of Clubs\n",
      "9 of Spades\n",
      "9 of Hearts\n",
      "9 of Diamonds\n",
      "10 of Clubs\n",
      "10 of Spades\n",
      "10 of Hearts\n",
      "10 of Diamonds\n",
      "10 of Clubs\n",
      "10 of Spades\n",
      "10 of Hearts\n",
      "10 of Diamonds\n",
      "10 of Clubs\n",
      "10 of Spades\n",
      "10 of Hearts\n",
      "10 of Diamonds\n",
      "10 of Clubs\n",
      "10 of Spades\n",
      "10 of Hearts\n",
      "10 of Diamonds\n",
      "Ace of Clubs\n",
      "Ace of Spades\n",
      "Ace of Hearts\n",
      "Ace of Diamonds\n",
      "2 of Clubs\n",
      "2 of Spades\n",
      "2 of Hearts\n",
      "2 of Diamonds\n",
      "3 of Clubs\n",
      "3 of Spades\n",
      "3 of Hearts\n",
      "3 of Diamonds\n",
      "4 of Clubs\n",
      "4 of Spades\n",
      "4 of Hearts\n",
      "4 of Diamonds\n",
      "5 of Clubs\n",
      "5 of Spades\n",
      "5 of Hearts\n",
      "5 of Diamonds\n",
      "6 of Clubs\n",
      "6 of Spades\n",
      "6 of Hearts\n",
      "6 of Diamonds\n",
      "7 of Clubs\n",
      "7 of Spades\n",
      "7 of Hearts\n",
      "7 of Diamonds\n",
      "8 of Clubs\n",
      "8 of Spades\n",
      "8 of Hearts\n",
      "8 of Diamonds\n",
      "9 of Clubs\n",
      "9 of Spades\n",
      "9 of Hearts\n",
      "9 of Diamonds\n",
      "10 of Clubs\n",
      "10 of Spades\n",
      "10 of Hearts\n",
      "10 of Diamonds\n",
      "10 of Clubs\n",
      "10 of Spades\n",
      "10 of Hearts\n",
      "10 of Diamonds\n",
      "10 of Clubs\n",
      "10 of Spades\n",
      "10 of Hearts\n",
      "10 of Diamonds\n",
      "10 of Clubs\n",
      "10 of Spades\n",
      "10 of Hearts\n",
      "10 of Diamonds\n",
      "Ace of Clubs\n",
      "Ace of Spades\n",
      "Ace of Hearts\n",
      "Ace of Diamonds\n",
      "2 of Clubs\n",
      "2 of Spades\n",
      "2 of Hearts\n",
      "2 of Diamonds\n",
      "3 of Clubs\n",
      "3 of Spades\n",
      "3 of Hearts\n",
      "3 of Diamonds\n",
      "4 of Clubs\n",
      "4 of Spades\n",
      "4 of Hearts\n",
      "4 of Diamonds\n",
      "5 of Clubs\n",
      "5 of Spades\n",
      "5 of Hearts\n",
      "5 of Diamonds\n",
      "6 of Clubs\n",
      "6 of Spades\n",
      "6 of Hearts\n",
      "6 of Diamonds\n",
      "7 of Clubs\n",
      "7 of Spades\n",
      "7 of Hearts\n",
      "7 of Diamonds\n",
      "8 of Clubs\n",
      "8 of Spades\n",
      "8 of Hearts\n",
      "8 of Diamonds\n",
      "9 of Clubs\n",
      "9 of Spades\n",
      "9 of Hearts\n",
      "9 of Diamonds\n",
      "10 of Clubs\n",
      "10 of Spades\n",
      "10 of Hearts\n",
      "10 of Diamonds\n",
      "10 of Clubs\n",
      "10 of Spades\n",
      "10 of Hearts\n",
      "10 of Diamonds\n",
      "10 of Clubs\n",
      "10 of Spades\n",
      "10 of Hearts\n",
      "10 of Diamonds\n",
      "10 of Clubs\n",
      "10 of Spades\n",
      "10 of Hearts\n",
      "10 of Diamonds\n",
      "Ace of Clubs\n",
      "Ace of Spades\n",
      "Ace of Hearts\n",
      "Ace of Diamonds\n"
     ]
    }
   ],
   "source": [
    "deck.shuffle()\n",
    "print(deck.summary())"
   ]
  },
  {
   "cell_type": "code",
   "execution_count": 4,
   "metadata": {
    "collapsed": false
   },
   "outputs": [],
   "source": [
    "agents = [blackjacktools.Player() for _ in range(3)] + [blackjacktools.Dealer()]\n",
    "\n",
    "#print(\"Please Enter Three Players\")\n",
    "#x = input(\"Enter the first player's name: \")\n",
    "#y = input(\"Enter the second player's name: \")\n",
    "#z = input(\"Enter the third player's name: \")\n",
    "\n",
    "#players = [blackjacktools.Player(x), blackjacktools.Player(y), blackjacktools.Player(z)]"
   ]
  },
  {
   "cell_type": "code",
   "execution_count": 5,
   "metadata": {
    "collapsed": false
   },
   "outputs": [
    {
     "name": "stdout",
     "output_type": "stream",
     "text": [
      "[(3, 'Hearts'), (6, 'Diamonds')]\n",
      "[(7, 'Spades'), (10, 'Spades')]\n",
      "[(6, 'Hearts'), (9, 'Spades')]\n",
      "[(5, 'Hearts'), (6, 'Spades')]\n"
     ]
    }
   ],
   "source": [
    "for x in agents:\n",
    "    x.get_hand()"
   ]
  },
  {
   "cell_type": "code",
   "execution_count": 6,
   "metadata": {
    "collapsed": false
   },
   "outputs": [
    {
     "name": "stdout",
     "output_type": "stream",
     "text": [
      "[(3, 'Hearts'), (6, 'Diamonds')]\n",
      "9\n",
      "[(7, 'Spades'), (10, 'Spades')]\n",
      "17\n",
      "[(6, 'Hearts'), (9, 'Spades')]\n",
      "15\n",
      "[(5, 'Hearts'), (6, 'Spades')]\n",
      "11\n"
     ]
    }
   ],
   "source": [
    "for x in agents:\n",
    "    print([c.info() for c in x.hand])\n",
    "    print(x.get_score())"
   ]
  },
  {
   "cell_type": "code",
   "execution_count": 7,
   "metadata": {
    "collapsed": false
   },
   "outputs": [],
   "source": [
    "#for x in agents:\n",
    "#    x.clear_hand()\n",
    "\n",
    "#for x in agents:\n",
    "#    print(x.get_score())"
   ]
  },
  {
   "cell_type": "code",
   "execution_count": 8,
   "metadata": {
    "collapsed": false
   },
   "outputs": [
    {
     "name": "stdout",
     "output_type": "stream",
     "text": [
      "3 of Spades\n"
     ]
    }
   ],
   "source": [
    "print(deck.deal())"
   ]
  },
  {
   "cell_type": "code",
   "execution_count": 9,
   "metadata": {
    "collapsed": false
   },
   "outputs": [
    {
     "name": "stdout",
     "output_type": "stream",
     "text": [
      "0\n",
      "0\n",
      "0\n",
      "0\n"
     ]
    }
   ],
   "source": [
    "for x in agents:\n",
    "    print(x.get_balance())"
   ]
  },
  {
   "cell_type": "code",
   "execution_count": 10,
   "metadata": {
    "collapsed": false
   },
   "outputs": [],
   "source": [
    "jake = blackjacktools.Player()\n",
    "will = blackjacktools.Player()"
   ]
  },
  {
   "cell_type": "code",
   "execution_count": 11,
   "metadata": {
    "collapsed": false
   },
   "outputs": [
    {
     "name": "stdout",
     "output_type": "stream",
     "text": [
      "[(4, 'Diamonds'), (5, 'Diamonds')]\n"
     ]
    }
   ],
   "source": [
    "jake.clear_hand()\n",
    "jake.get_hand()"
   ]
  },
  {
   "cell_type": "code",
   "execution_count": 12,
   "metadata": {
    "collapsed": false
   },
   "outputs": [
    {
     "name": "stdout",
     "output_type": "stream",
     "text": [
      "Player chose to hit!\n",
      "[(4, 'Diamonds'), (5, 'Diamonds'), (3, 'Clubs')]\n"
     ]
    },
    {
     "data": {
      "text/plain": [
       "12"
      ]
     },
     "execution_count": 12,
     "metadata": {},
     "output_type": "execute_result"
    }
   ],
   "source": [
    "jake.hit()"
   ]
  },
  {
   "cell_type": "code",
   "execution_count": 13,
   "metadata": {
    "collapsed": false
   },
   "outputs": [
    {
     "name": "stdout",
     "output_type": "stream",
     "text": [
      "Player chose to stay!\n"
     ]
    },
    {
     "data": {
      "text/plain": [
       "12"
      ]
     },
     "execution_count": 13,
     "metadata": {},
     "output_type": "execute_result"
    }
   ],
   "source": [
    "jake.stay()"
   ]
  },
  {
   "cell_type": "code",
   "execution_count": 79,
   "metadata": {
    "collapsed": false
   },
   "outputs": [
    {
     "name": "stdout",
     "output_type": "stream",
     "text": [
      "[(10, 'Hearts'), ('Ace', 'Diamonds')]\n"
     ]
    }
   ],
   "source": [
    "will.clear_hand()\n",
    "will.get_hand()"
   ]
  },
  {
   "cell_type": "code",
   "execution_count": 80,
   "metadata": {
    "collapsed": false
   },
   "outputs": [
    {
     "name": "stdout",
     "output_type": "stream",
     "text": [
      "21\n",
      "Blackjack!\n",
      "[(10, 'Hearts'), ('Ace', 'Diamonds')]\n"
     ]
    },
    {
     "data": {
      "text/plain": [
       "21"
      ]
     },
     "execution_count": 80,
     "metadata": {},
     "output_type": "execute_result"
    }
   ],
   "source": [
    "will.auto_move()"
   ]
  }
 ],
 "metadata": {
  "kernelspec": {
   "display_name": "Python 3",
   "language": "python",
   "name": "python3"
  },
  "language_info": {
   "codemirror_mode": {
    "name": "ipython",
    "version": 3
   },
   "file_extension": ".py",
   "mimetype": "text/x-python",
   "name": "python",
   "nbconvert_exporter": "python",
   "pygments_lexer": "ipython3",
   "version": "3.5.1"
  }
 },
 "nbformat": 4,
 "nbformat_minor": 0
}
