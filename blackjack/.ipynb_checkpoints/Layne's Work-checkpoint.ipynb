{
 "cells": [
  {
   "cell_type": "markdown",
   "metadata": {},
   "source": [
    "### Count Rules\n",
    "\n",
    "If card is 2-6, then add 1 from count.\n",
    "If card is 7-9, count doesn't change.\n",
    "If card is 10, J, Q, K, or A, then subtract 1 from count.\n",
    "\n",
    "True Count = Running Count / # of decks"
   ]
  },
  {
   "cell_type": "code",
   "execution_count": 1,
   "metadata": {
    "collapsed": false
   },
   "outputs": [],
   "source": [
    "import blackjacktools"
   ]
  },
  {
   "cell_type": "code",
   "execution_count": 2,
   "metadata": {
    "collapsed": false
   },
   "outputs": [
    {
     "name": "stdout",
     "output_type": "stream",
     "text": [
      "Number of Cards: 156\n",
      "2 of Clubs\n",
      "2 of Spades\n",
      "2 of Hearts\n",
      "2 of Diamonds\n",
      "3 of Clubs\n",
      "3 of Spades\n",
      "3 of Hearts\n",
      "3 of Diamonds\n",
      "4 of Clubs\n",
      "4 of Spades\n",
      "4 of Hearts\n",
      "4 of Diamonds\n",
      "5 of Clubs\n",
      "5 of Spades\n",
      "5 of Hearts\n",
      "5 of Diamonds\n",
      "6 of Clubs\n",
      "6 of Spades\n",
      "6 of Hearts\n",
      "6 of Diamonds\n",
      "7 of Clubs\n",
      "7 of Spades\n",
      "7 of Hearts\n",
      "7 of Diamonds\n",
      "8 of Clubs\n",
      "8 of Spades\n",
      "8 of Hearts\n",
      "8 of Diamonds\n",
      "9 of Clubs\n",
      "9 of Spades\n",
      "9 of Hearts\n",
      "9 of Diamonds\n",
      "10 of Clubs\n",
      "10 of Spades\n",
      "10 of Hearts\n",
      "10 of Diamonds\n",
      "10 of Clubs\n",
      "10 of Spades\n",
      "10 of Hearts\n",
      "10 of Diamonds\n",
      "10 of Clubs\n",
      "10 of Spades\n",
      "10 of Hearts\n",
      "10 of Diamonds\n",
      "10 of Clubs\n",
      "10 of Spades\n",
      "10 of Hearts\n",
      "10 of Diamonds\n",
      "Ace of Clubs\n",
      "Ace of Spades\n",
      "Ace of Hearts\n",
      "Ace of Diamonds\n",
      "2 of Clubs\n",
      "2 of Spades\n",
      "2 of Hearts\n",
      "2 of Diamonds\n",
      "3 of Clubs\n",
      "3 of Spades\n",
      "3 of Hearts\n",
      "3 of Diamonds\n",
      "4 of Clubs\n",
      "4 of Spades\n",
      "4 of Hearts\n",
      "4 of Diamonds\n",
      "5 of Clubs\n",
      "5 of Spades\n",
      "5 of Hearts\n",
      "5 of Diamonds\n",
      "6 of Clubs\n",
      "6 of Spades\n",
      "6 of Hearts\n",
      "6 of Diamonds\n",
      "7 of Clubs\n",
      "7 of Spades\n",
      "7 of Hearts\n",
      "7 of Diamonds\n",
      "8 of Clubs\n",
      "8 of Spades\n",
      "8 of Hearts\n",
      "8 of Diamonds\n",
      "9 of Clubs\n",
      "9 of Spades\n",
      "9 of Hearts\n",
      "9 of Diamonds\n",
      "10 of Clubs\n",
      "10 of Spades\n",
      "10 of Hearts\n",
      "10 of Diamonds\n",
      "10 of Clubs\n",
      "10 of Spades\n",
      "10 of Hearts\n",
      "10 of Diamonds\n",
      "10 of Clubs\n",
      "10 of Spades\n",
      "10 of Hearts\n",
      "10 of Diamonds\n",
      "10 of Clubs\n",
      "10 of Spades\n",
      "10 of Hearts\n",
      "10 of Diamonds\n",
      "Ace of Clubs\n",
      "Ace of Spades\n",
      "Ace of Hearts\n",
      "Ace of Diamonds\n",
      "2 of Clubs\n",
      "2 of Spades\n",
      "2 of Hearts\n",
      "2 of Diamonds\n",
      "3 of Clubs\n",
      "3 of Spades\n",
      "3 of Hearts\n",
      "3 of Diamonds\n",
      "4 of Clubs\n",
      "4 of Spades\n",
      "4 of Hearts\n",
      "4 of Diamonds\n",
      "5 of Clubs\n",
      "5 of Spades\n",
      "5 of Hearts\n",
      "5 of Diamonds\n",
      "6 of Clubs\n",
      "6 of Spades\n",
      "6 of Hearts\n",
      "6 of Diamonds\n",
      "7 of Clubs\n",
      "7 of Spades\n",
      "7 of Hearts\n",
      "7 of Diamonds\n",
      "8 of Clubs\n",
      "8 of Spades\n",
      "8 of Hearts\n",
      "8 of Diamonds\n",
      "9 of Clubs\n",
      "9 of Spades\n",
      "9 of Hearts\n",
      "9 of Diamonds\n",
      "10 of Clubs\n",
      "10 of Spades\n",
      "10 of Hearts\n",
      "10 of Diamonds\n",
      "10 of Clubs\n",
      "10 of Spades\n",
      "10 of Hearts\n",
      "10 of Diamonds\n",
      "10 of Clubs\n",
      "10 of Spades\n",
      "10 of Hearts\n",
      "10 of Diamonds\n",
      "10 of Clubs\n",
      "10 of Spades\n",
      "10 of Hearts\n",
      "10 of Diamonds\n",
      "Ace of Clubs\n",
      "Ace of Spades\n",
      "Ace of Hearts\n",
      "Ace of Diamonds\n"
     ]
    }
   ],
   "source": [
    "deck = blackjacktools.Deck()\n",
    "deck.shuffle()\n",
    "print(deck.summary())"
   ]
  },
  {
   "cell_type": "code",
   "execution_count": 3,
   "metadata": {
    "collapsed": false
   },
   "outputs": [],
   "source": [
    "Layne = blackjacktools.Player()\n",
    "Ryan = blackjacktools.Player()\n",
    "JT = blackjacktools.Player()\n",
    "Dealer = blackjacktools.Dealer()\n",
    "players = [Layne,Ryan,JT]\n",
    "agents = players + [Dealer]"
   ]
  },
  {
   "cell_type": "code",
   "execution_count": 4,
   "metadata": {
    "collapsed": false
   },
   "outputs": [
    {
     "name": "stdout",
     "output_type": "stream",
     "text": [
      "[]\n",
      "0\n",
      "0\n",
      "Player chose to hit!\n",
      "[(10, 'Hearts')]\n",
      "Player chose to hit!\n",
      "[(10, 'Hearts'), (3, 'Diamonds')]\n",
      "Player chose to hit!\n",
      "[(10, 'Hearts'), (3, 'Diamonds'), (5, 'Clubs')]\n",
      "Player chose to stay!\n",
      "[(10, 'Hearts'), (3, 'Diamonds'), (5, 'Clubs')]\n",
      "[]\n",
      "0\n",
      "0\n",
      "Player chose to hit!\n",
      "[(10, 'Clubs')]\n",
      "Player chose to hit!\n",
      "[(10, 'Clubs'), (10, 'Diamonds')]\n",
      "Player chose to stay!\n",
      "[(10, 'Clubs'), (10, 'Diamonds')]\n",
      "[]\n",
      "0\n",
      "0\n",
      "Player chose to hit!\n",
      "[(10, 'Clubs')]\n",
      "Player chose to hit!\n",
      "[(10, 'Clubs'), (3, 'Diamonds')]\n",
      "Player chose to hit but... Bust!\n",
      "[(10, 'Clubs'), (3, 'Diamonds'), (10, 'Spades')]\n",
      "[]\n",
      "0\n",
      "0\n",
      "Player chose to hit!\n",
      "[(4, 'Spades')]\n",
      "Player chose to hit!\n",
      "[(4, 'Spades'), (7, 'Spades')]\n",
      "Player chose to hit!\n",
      "[(4, 'Spades'), (7, 'Spades'), ('Ace', 'Clubs')]\n",
      "Player chose to hit!\n",
      "[(4, 'Spades'), (7, 'Spades'), ('Ace', 'Clubs'), (2, 'Spades')]\n",
      "Player chose to hit but... Bust!\n",
      "[(4, 'Spades'), (7, 'Spades'), ('Ace', 'Clubs'), (2, 'Spades'), (9, 'Hearts')]\n"
     ]
    }
   ],
   "source": [
    "for x in agents:\n",
    "    print([c.info() for c in x.hand])\n",
    "    print(x.get_score())\n",
    "    x.auto_move()\n",
    "\n"
   ]
  },
  {
   "cell_type": "code",
   "execution_count": 2,
   "metadata": {
    "collapsed": false
   },
   "outputs": [],
   "source": [
    "T=blackjacktools.Table()"
   ]
  },
  {
   "cell_type": "code",
   "execution_count": 3,
   "metadata": {
    "collapsed": false
   },
   "outputs": [],
   "source": [
    "T.run()"
   ]
  },
  {
   "cell_type": "code",
   "execution_count": null,
   "metadata": {
    "collapsed": true
   },
   "outputs": [],
   "source": []
  }
 ],
 "metadata": {
  "kernelspec": {
   "display_name": "Python 3",
   "language": "python",
   "name": "python3"
  },
  "language_info": {
   "codemirror_mode": {
    "name": "ipython",
    "version": 3
   },
   "file_extension": ".py",
   "mimetype": "text/x-python",
   "name": "python",
   "nbconvert_exporter": "python",
   "pygments_lexer": "ipython3",
   "version": "3.5.1"
  }
 },
 "nbformat": 4,
 "nbformat_minor": 0
}
