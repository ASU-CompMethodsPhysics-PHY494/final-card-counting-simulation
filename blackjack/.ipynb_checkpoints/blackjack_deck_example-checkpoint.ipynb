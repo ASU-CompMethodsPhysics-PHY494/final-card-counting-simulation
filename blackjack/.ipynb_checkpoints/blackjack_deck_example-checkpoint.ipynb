{
 "cells": [
  {
   "cell_type": "code",
   "execution_count": 1,
   "metadata": {
    "collapsed": true
   },
   "outputs": [],
   "source": [
    "import blackjacktools"
   ]
  },
  {
   "cell_type": "markdown",
   "metadata": {},
   "source": [
    "Created deck and card objects. No need to deal with shit you don't need to."
   ]
  },
  {
   "cell_type": "code",
   "execution_count": 2,
   "metadata": {
    "collapsed": false
   },
   "outputs": [],
   "source": [
    "deck = blackjacktools.Deck()"
   ]
  },
  {
   "cell_type": "markdown",
   "metadata": {},
   "source": [
    "The deck object type will handle operations with cards. You might want to customize the classes a bit further in `blackjacktools.py`.\n",
    "\n",
    "Below, I created a 52 card deck. The syntax should be pretty clear. If not let me know by email. I am in a library..."
   ]
  },
  {
   "cell_type": "code",
   "execution_count": 3,
   "metadata": {
    "collapsed": false
   },
   "outputs": [
    {
     "name": "stdout",
     "output_type": "stream",
     "text": [
      "Number of Cards: 156\n",
      "2 of Clubs\n",
      "2 of Spades\n",
      "2 of Hearts\n",
      "2 of Diamonds\n",
      "3 of Clubs\n",
      "3 of Spades\n",
      "3 of Hearts\n",
      "3 of Diamonds\n",
      "4 of Clubs\n",
      "4 of Spades\n",
      "4 of Hearts\n",
      "4 of Diamonds\n",
      "5 of Clubs\n",
      "5 of Spades\n",
      "5 of Hearts\n",
      "5 of Diamonds\n",
      "6 of Clubs\n",
      "6 of Spades\n",
      "6 of Hearts\n",
      "6 of Diamonds\n",
      "7 of Clubs\n",
      "7 of Spades\n",
      "7 of Hearts\n",
      "7 of Diamonds\n",
      "8 of Clubs\n",
      "8 of Spades\n",
      "8 of Hearts\n",
      "8 of Diamonds\n",
      "9 of Clubs\n",
      "9 of Spades\n",
      "9 of Hearts\n",
      "9 of Diamonds\n",
      "10 of Clubs\n",
      "10 of Spades\n",
      "10 of Hearts\n",
      "10 of Diamonds\n",
      "10 of Clubs\n",
      "10 of Spades\n",
      "10 of Hearts\n",
      "10 of Diamonds\n",
      "10 of Clubs\n",
      "10 of Spades\n",
      "10 of Hearts\n",
      "10 of Diamonds\n",
      "10 of Clubs\n",
      "10 of Spades\n",
      "10 of Hearts\n",
      "10 of Diamonds\n",
      "Ace of Clubs\n",
      "Ace of Spades\n",
      "Ace of Hearts\n",
      "Ace of Diamonds\n",
      "2 of Clubs\n",
      "2 of Spades\n",
      "2 of Hearts\n",
      "2 of Diamonds\n",
      "3 of Clubs\n",
      "3 of Spades\n",
      "3 of Hearts\n",
      "3 of Diamonds\n",
      "4 of Clubs\n",
      "4 of Spades\n",
      "4 of Hearts\n",
      "4 of Diamonds\n",
      "5 of Clubs\n",
      "5 of Spades\n",
      "5 of Hearts\n",
      "5 of Diamonds\n",
      "6 of Clubs\n",
      "6 of Spades\n",
      "6 of Hearts\n",
      "6 of Diamonds\n",
      "7 of Clubs\n",
      "7 of Spades\n",
      "7 of Hearts\n",
      "7 of Diamonds\n",
      "8 of Clubs\n",
      "8 of Spades\n",
      "8 of Hearts\n",
      "8 of Diamonds\n",
      "9 of Clubs\n",
      "9 of Spades\n",
      "9 of Hearts\n",
      "9 of Diamonds\n",
      "10 of Clubs\n",
      "10 of Spades\n",
      "10 of Hearts\n",
      "10 of Diamonds\n",
      "10 of Clubs\n",
      "10 of Spades\n",
      "10 of Hearts\n",
      "10 of Diamonds\n",
      "10 of Clubs\n",
      "10 of Spades\n",
      "10 of Hearts\n",
      "10 of Diamonds\n",
      "10 of Clubs\n",
      "10 of Spades\n",
      "10 of Hearts\n",
      "10 of Diamonds\n",
      "Ace of Clubs\n",
      "Ace of Spades\n",
      "Ace of Hearts\n",
      "Ace of Diamonds\n",
      "2 of Clubs\n",
      "2 of Spades\n",
      "2 of Hearts\n",
      "2 of Diamonds\n",
      "3 of Clubs\n",
      "3 of Spades\n",
      "3 of Hearts\n",
      "3 of Diamonds\n",
      "4 of Clubs\n",
      "4 of Spades\n",
      "4 of Hearts\n",
      "4 of Diamonds\n",
      "5 of Clubs\n",
      "5 of Spades\n",
      "5 of Hearts\n",
      "5 of Diamonds\n",
      "6 of Clubs\n",
      "6 of Spades\n",
      "6 of Hearts\n",
      "6 of Diamonds\n",
      "7 of Clubs\n",
      "7 of Spades\n",
      "7 of Hearts\n",
      "7 of Diamonds\n",
      "8 of Clubs\n",
      "8 of Spades\n",
      "8 of Hearts\n",
      "8 of Diamonds\n",
      "9 of Clubs\n",
      "9 of Spades\n",
      "9 of Hearts\n",
      "9 of Diamonds\n",
      "10 of Clubs\n",
      "10 of Spades\n",
      "10 of Hearts\n",
      "10 of Diamonds\n",
      "10 of Clubs\n",
      "10 of Spades\n",
      "10 of Hearts\n",
      "10 of Diamonds\n",
      "10 of Clubs\n",
      "10 of Spades\n",
      "10 of Hearts\n",
      "10 of Diamonds\n",
      "10 of Clubs\n",
      "10 of Spades\n",
      "10 of Hearts\n",
      "10 of Diamonds\n",
      "Ace of Clubs\n",
      "Ace of Spades\n",
      "Ace of Hearts\n",
      "Ace of Diamonds\n"
     ]
    }
   ],
   "source": [
    "deck.shuffle()\n",
    "print(deck.summary())"
   ]
  },
  {
   "cell_type": "markdown",
   "metadata": {},
   "source": [
    "The `add_card()` function can take in either a single card object or a list of them. I recommend the list."
   ]
  },
  {
   "cell_type": "markdown",
   "metadata": {},
   "source": [
    "## This is far from polished but should be a good place to start"
   ]
  },
  {
   "cell_type": "code",
   "execution_count": 4,
   "metadata": {
    "collapsed": false
   },
   "outputs": [],
   "source": [
    "agents = [blackjacktools.Player() for _ in range(3)] + [blackjacktools.Dealer()]"
   ]
  },
  {
   "cell_type": "code",
   "execution_count": 5,
   "metadata": {
    "collapsed": false
   },
   "outputs": [
    {
     "name": "stdout",
     "output_type": "stream",
     "text": [
      "4 of Clubs\n",
      "155\n",
      "[(4, 'Clubs')]\n",
      "8 of Hearts\n",
      "154\n",
      "[(8, 'Hearts')]\n",
      "Ace of Clubs\n",
      "153\n",
      "[('Ace', 'Clubs')]\n",
      "10 of Spades\n",
      "152\n",
      "[(10, 'Spades')]\n",
      "4 of Clubs\n",
      "151\n",
      "[(4, 'Clubs'), (4, 'Clubs')]\n",
      "10 of Hearts\n",
      "150\n",
      "[(8, 'Hearts'), (10, 'Hearts')]\n",
      "10 of Hearts\n",
      "149\n",
      "[('Ace', 'Clubs'), (10, 'Hearts')]\n",
      "2 of Diamonds\n",
      "148\n",
      "[(10, 'Spades'), (2, 'Diamonds')]\n"
     ]
    }
   ],
   "source": [
    "for n in range(2):\n",
    "    for x in agents:\n",
    "        card = deck.deal()\n",
    "        print(card)\n",
    "        x.add_card(card)\n",
    "        print(len(deck))\n",
    "        print([c.info() for c in x.hand])"
   ]
  },
  {
   "cell_type": "code",
   "execution_count": 12,
   "metadata": {
    "collapsed": false
   },
   "outputs": [
    {
     "name": "stdout",
     "output_type": "stream",
     "text": [
      "[(7, 'Clubs'), (4, 'Spades'), (7, 'Diamonds'), (10, 'Diamonds')]\n",
      "28\n",
      "[(8, 'Clubs'), (5, 'Clubs'), (3, 'Spades'), (10, 'Spades')]\n",
      "26\n",
      "[('Ace', 'Diamonds'), (3, 'Hearts'), (10, 'Diamonds'), (4, 'Diamonds')]\n",
      "18\n",
      "[(6, 'Clubs'), (10, 'Diamonds'), ('Ace', 'Spades'), (2, 'Hearts')]\n",
      "19\n"
     ]
    }
   ],
   "source": [
    "for x in agents:\n",
    "    print([c.info() for c in x.hand])\n",
    "    print(x.get_score())"
   ]
  },
  {
   "cell_type": "code",
   "execution_count": null,
   "metadata": {
    "collapsed": false
   },
   "outputs": [],
   "source": [
    "[x.clear_hand() for x in agents]"
   ]
  },
  {
   "cell_type": "code",
   "execution_count": null,
   "metadata": {
    "collapsed": false
   },
   "outputs": [],
   "source": [
    "for x in agents:\n",
    "    print(x.get_score())"
   ]
  },
  {
   "cell_type": "code",
   "execution_count": null,
   "metadata": {
    "collapsed": false
   },
   "outputs": [],
   "source": [
    "print(deck.deal())"
   ]
  },
  {
   "cell_type": "code",
   "execution_count": null,
   "metadata": {
    "collapsed": true
   },
   "outputs": [],
   "source": []
  }
 ],
 "metadata": {
  "kernelspec": {
   "display_name": "Python 3",
   "language": "python",
   "name": "python3"
  },
  "language_info": {
   "codemirror_mode": {
    "name": "ipython",
    "version": 3
   },
   "file_extension": ".py",
   "mimetype": "text/x-python",
   "name": "python",
   "nbconvert_exporter": "python",
   "pygments_lexer": "ipython3",
   "version": "3.5.1"
  }
 },
 "nbformat": 4,
 "nbformat_minor": 0
}
