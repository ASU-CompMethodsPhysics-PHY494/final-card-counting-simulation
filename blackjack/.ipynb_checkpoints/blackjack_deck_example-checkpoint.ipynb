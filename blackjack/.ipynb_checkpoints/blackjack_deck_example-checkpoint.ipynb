{
 "cells": [
  {
   "cell_type": "code",
   "execution_count": 1,
   "metadata": {
    "collapsed": true
   },
   "outputs": [],
   "source": [
    "import blackjacktools"
   ]
  },
  {
   "cell_type": "markdown",
   "metadata": {},
   "source": [
    "Created deck and card objects. No need to deal with shit you don't need to."
   ]
  },
  {
   "cell_type": "code",
   "execution_count": 2,
   "metadata": {
    "collapsed": false
   },
   "outputs": [],
   "source": [
    "deck = blackjacktools.Deck()"
   ]
  },
  {
   "cell_type": "markdown",
   "metadata": {},
   "source": [
    "The deck object type will handle operations with cards. You might want to customize the classes a bit further in `blackjacktools.py`.\n",
    "\n",
    "Below, I created a 52 card deck. The syntax should be pretty clear. If not let me know by email. I am in a library..."
   ]
  },
  {
   "cell_type": "code",
   "execution_count": 9,
   "metadata": {
    "collapsed": false
   },
   "outputs": [],
   "source": [
    "cards = []\n",
    "for x in list(range(2,11)) + [\"jack\",\"queen\",\"king\",\"ace\"]:\n",
    "    for y in [\"clubs\",\"spades\",\"hearts\",\"diamonds\"]:\n",
    "        cards.append(blackjacktools.card(x,y))"
   ]
  },
  {
   "cell_type": "code",
   "execution_count": 4,
   "metadata": {
    "collapsed": false
   },
   "outputs": [
    {
     "name": "stdout",
     "output_type": "stream",
     "text": [
      "(2, 'clubs')\n",
      "(2, 'spades')\n",
      "(2, 'hearts')\n",
      "(2, 'diamonds')\n",
      "(3, 'clubs')\n",
      "(3, 'spades')\n",
      "(3, 'hearts')\n",
      "(3, 'diamonds')\n",
      "(4, 'clubs')\n",
      "(4, 'spades')\n",
      "(4, 'hearts')\n",
      "(4, 'diamonds')\n",
      "(5, 'clubs')\n",
      "(5, 'spades')\n",
      "(5, 'hearts')\n",
      "(5, 'diamonds')\n",
      "(6, 'clubs')\n",
      "(6, 'spades')\n",
      "(6, 'hearts')\n",
      "(6, 'diamonds')\n",
      "(7, 'clubs')\n",
      "(7, 'spades')\n",
      "(7, 'hearts')\n",
      "(7, 'diamonds')\n",
      "(8, 'clubs')\n",
      "(8, 'spades')\n",
      "(8, 'hearts')\n",
      "(8, 'diamonds')\n",
      "(9, 'clubs')\n",
      "(9, 'spades')\n",
      "(9, 'hearts')\n",
      "(9, 'diamonds')\n",
      "(10, 'clubs')\n",
      "(10, 'spades')\n",
      "(10, 'hearts')\n",
      "(10, 'diamonds')\n",
      "('jack', 'clubs')\n",
      "('jack', 'spades')\n",
      "('jack', 'hearts')\n",
      "('jack', 'diamonds')\n",
      "('queen', 'clubs')\n",
      "('queen', 'spades')\n",
      "('queen', 'hearts')\n",
      "('queen', 'diamonds')\n",
      "('king', 'clubs')\n",
      "('king', 'spades')\n",
      "('king', 'hearts')\n",
      "('king', 'diamonds')\n",
      "('ace', 'clubs')\n",
      "('ace', 'spades')\n",
      "('ace', 'hearts')\n",
      "('ace', 'diamonds')\n"
     ]
    }
   ],
   "source": [
    "for c in cards:\n",
    "    print(c.info())"
   ]
  },
  {
   "cell_type": "markdown",
   "metadata": {},
   "source": [
    "The `add_card()` function can take in either a single card object or a list of them. I recommend the list."
   ]
  },
  {
   "cell_type": "code",
   "execution_count": 10,
   "metadata": {
    "collapsed": true
   },
   "outputs": [],
   "source": [
    "deck.add_card(cards)"
   ]
  },
  {
   "cell_type": "code",
   "execution_count": 6,
   "metadata": {
    "collapsed": false
   },
   "outputs": [
    {
     "name": "stdout",
     "output_type": "stream",
     "text": [
      "Number of Cards: 52\n",
      "2 of clubs\n",
      "2 of spades\n",
      "2 of hearts\n",
      "2 of diamonds\n",
      "3 of clubs\n",
      "3 of spades\n",
      "3 of hearts\n",
      "3 of diamonds\n",
      "4 of clubs\n",
      "4 of spades\n",
      "4 of hearts\n",
      "4 of diamonds\n",
      "5 of clubs\n",
      "5 of spades\n",
      "5 of hearts\n",
      "5 of diamonds\n",
      "6 of clubs\n",
      "6 of spades\n",
      "6 of hearts\n",
      "6 of diamonds\n",
      "7 of clubs\n",
      "7 of spades\n",
      "7 of hearts\n",
      "7 of diamonds\n",
      "8 of clubs\n",
      "8 of spades\n",
      "8 of hearts\n",
      "8 of diamonds\n",
      "9 of clubs\n",
      "9 of spades\n",
      "9 of hearts\n",
      "9 of diamonds\n",
      "10 of clubs\n",
      "10 of spades\n",
      "10 of hearts\n",
      "10 of diamonds\n",
      "jack of clubs\n",
      "jack of spades\n",
      "jack of hearts\n",
      "jack of diamonds\n",
      "queen of clubs\n",
      "queen of spades\n",
      "queen of hearts\n",
      "queen of diamonds\n",
      "king of clubs\n",
      "king of spades\n",
      "king of hearts\n",
      "king of diamonds\n",
      "ace of clubs\n",
      "ace of spades\n",
      "ace of hearts\n",
      "ace of diamonds\n"
     ]
    }
   ],
   "source": [
    "print(deck.summary())"
   ]
  },
  {
   "cell_type": "code",
   "execution_count": 11,
   "metadata": {
    "collapsed": false,
    "scrolled": true
   },
   "outputs": [
    {
     "name": "stdout",
     "output_type": "stream",
     "text": [
      "Dealt Card:  5 of hearts \tCards Left:  51\n",
      "Dealt Card:  2 of hearts \tCards Left:  50\n",
      "Dealt Card:  8 of clubs \tCards Left:  49\n",
      "Dealt Card:  3 of spades \tCards Left:  48\n",
      "Dealt Card:  ace of hearts \tCards Left:  47\n",
      "Dealt Card:  2 of spades \tCards Left:  46\n",
      "Dealt Card:  ace of diamonds \tCards Left:  45\n",
      "Dealt Card:  king of spades \tCards Left:  44\n",
      "Dealt Card:  10 of hearts \tCards Left:  43\n",
      "Dealt Card:  4 of clubs \tCards Left:  42\n",
      "Dealt Card:  6 of spades \tCards Left:  41\n",
      "Dealt Card:  jack of spades \tCards Left:  40\n",
      "Dealt Card:  10 of diamonds \tCards Left:  39\n",
      "Dealt Card:  5 of diamonds \tCards Left:  38\n",
      "Dealt Card:  10 of clubs \tCards Left:  37\n",
      "Dealt Card:  ace of spades \tCards Left:  36\n",
      "Dealt Card:  5 of clubs \tCards Left:  35\n",
      "Dealt Card:  jack of clubs \tCards Left:  34\n",
      "Dealt Card:  6 of clubs \tCards Left:  33\n",
      "Dealt Card:  7 of spades \tCards Left:  32\n",
      "Dealt Card:  queen of clubs \tCards Left:  31\n",
      "Dealt Card:  3 of clubs \tCards Left:  30\n",
      "Dealt Card:  3 of diamonds \tCards Left:  29\n",
      "Dealt Card:  4 of diamonds \tCards Left:  28\n",
      "Dealt Card:  queen of hearts \tCards Left:  27\n",
      "Dealt Card:  queen of diamonds \tCards Left:  26\n",
      "Dealt Card:  4 of spades \tCards Left:  25\n",
      "Dealt Card:  ace of clubs \tCards Left:  24\n",
      "Dealt Card:  king of hearts \tCards Left:  23\n",
      "Dealt Card:  jack of diamonds \tCards Left:  22\n",
      "Dealt Card:  jack of hearts \tCards Left:  21\n",
      "Dealt Card:  2 of diamonds \tCards Left:  20\n",
      "Dealt Card:  8 of diamonds \tCards Left:  19\n",
      "Dealt Card:  king of diamonds \tCards Left:  18\n",
      "Dealt Card:  2 of clubs \tCards Left:  17\n",
      "Dealt Card:  9 of spades \tCards Left:  16\n",
      "Dealt Card:  10 of spades \tCards Left:  15\n",
      "Dealt Card:  queen of spades \tCards Left:  14\n",
      "Dealt Card:  3 of hearts \tCards Left:  13\n",
      "Dealt Card:  king of clubs \tCards Left:  12\n",
      "Dealt Card:  6 of diamonds \tCards Left:  11\n",
      "Dealt Card:  8 of hearts \tCards Left:  10\n",
      "Dealt Card:  5 of spades \tCards Left:  9\n",
      "Dealt Card:  9 of hearts \tCards Left:  8\n",
      "Dealt Card:  8 of spades \tCards Left:  7\n",
      "Dealt Card:  9 of clubs \tCards Left:  6\n",
      "Dealt Card:  7 of diamonds \tCards Left:  5\n",
      "Dealt Card:  9 of diamonds \tCards Left:  4\n",
      "Dealt Card:  4 of hearts \tCards Left:  3\n",
      "Dealt Card:  6 of hearts \tCards Left:  2\n",
      "Dealt Card:  7 of hearts \tCards Left:  1\n",
      "Dealt Card:  7 of clubs \tCards Left:  0\n",
      "Deck is empty!\n",
      "Dealt Card:  None of None \tCards Left:  0\n",
      "Deck is empty!\n",
      "Dealt Card:  None of None \tCards Left:  0\n",
      "Deck is empty!\n",
      "Dealt Card:  None of None \tCards Left:  0\n",
      "Deck is empty!\n",
      "Dealt Card:  None of None \tCards Left:  0\n",
      "Deck is empty!\n",
      "Dealt Card:  None of None \tCards Left:  0\n",
      "Deck is empty!\n",
      "Dealt Card:  None of None \tCards Left:  0\n",
      "Deck is empty!\n",
      "Dealt Card:  None of None \tCards Left:  0\n",
      "Deck is empty!\n",
      "Dealt Card:  None of None \tCards Left:  0\n"
     ]
    }
   ],
   "source": [
    "for x in range(60):\n",
    "    print(\"Dealt Card: \",deck.deal(),\"\\tCards Left: \",len(deck))"
   ]
  },
  {
   "cell_type": "markdown",
   "metadata": {},
   "source": [
    "## This is far from polished but should be a good place to start"
   ]
  },
  {
   "cell_type": "code",
   "execution_count": null,
   "metadata": {
    "collapsed": true
   },
   "outputs": [],
   "source": []
  }
 ],
 "metadata": {
  "kernelspec": {
   "display_name": "Python 3",
   "language": "python",
   "name": "python3"
  },
  "language_info": {
   "codemirror_mode": {
    "name": "ipython",
    "version": 3
   },
   "file_extension": ".py",
   "mimetype": "text/x-python",
   "name": "python",
   "nbconvert_exporter": "python",
   "pygments_lexer": "ipython3",
   "version": "3.5.1"
  }
 },
 "nbformat": 4,
 "nbformat_minor": 0
}
