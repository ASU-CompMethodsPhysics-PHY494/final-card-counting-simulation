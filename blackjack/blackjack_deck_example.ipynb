{
 "cells": [
  {
   "cell_type": "code",
   "execution_count": 1,
   "metadata": {
    "collapsed": false
   },
   "outputs": [],
   "source": [
    "import blackjacktools"
   ]
  },
  {
   "cell_type": "markdown",
   "metadata": {},
   "source": [
    "Created deck and card objects. No need to deal with shit you don't need to."
   ]
  },
  {
   "cell_type": "code",
   "execution_count": 2,
   "metadata": {
    "collapsed": false
   },
   "outputs": [],
   "source": [
    "deck = blackjacktools.Deck()"
   ]
  },
  {
   "cell_type": "markdown",
   "metadata": {},
   "source": [
    "The deck object type will handle operations with cards. You might want to customize the classes a bit further in `blackjacktools.py`.\n",
    "\n",
    "Below, I created a 52 card deck. The syntax should be pretty clear. If not let me know by email. I am in a library..."
   ]
  },
  {
   "cell_type": "code",
   "execution_count": 3,
   "metadata": {
    "collapsed": false
   },
   "outputs": [
    {
     "name": "stdout",
     "output_type": "stream",
     "text": [
      "Number of Cards: 156\n",
      "2 of Clubs\n",
      "2 of Spades\n",
      "2 of Hearts\n",
      "2 of Diamonds\n",
      "3 of Clubs\n",
      "3 of Spades\n",
      "3 of Hearts\n",
      "3 of Diamonds\n",
      "4 of Clubs\n",
      "4 of Spades\n",
      "4 of Hearts\n",
      "4 of Diamonds\n",
      "5 of Clubs\n",
      "5 of Spades\n",
      "5 of Hearts\n",
      "5 of Diamonds\n",
      "6 of Clubs\n",
      "6 of Spades\n",
      "6 of Hearts\n",
      "6 of Diamonds\n",
      "7 of Clubs\n",
      "7 of Spades\n",
      "7 of Hearts\n",
      "7 of Diamonds\n",
      "8 of Clubs\n",
      "8 of Spades\n",
      "8 of Hearts\n",
      "8 of Diamonds\n",
      "9 of Clubs\n",
      "9 of Spades\n",
      "9 of Hearts\n",
      "9 of Diamonds\n",
      "10 of Clubs\n",
      "10 of Spades\n",
      "10 of Hearts\n",
      "10 of Diamonds\n",
      "10 of Clubs\n",
      "10 of Spades\n",
      "10 of Hearts\n",
      "10 of Diamonds\n",
      "10 of Clubs\n",
      "10 of Spades\n",
      "10 of Hearts\n",
      "10 of Diamonds\n",
      "10 of Clubs\n",
      "10 of Spades\n",
      "10 of Hearts\n",
      "10 of Diamonds\n",
      "Ace of Clubs\n",
      "Ace of Spades\n",
      "Ace of Hearts\n",
      "Ace of Diamonds\n",
      "2 of Clubs\n",
      "2 of Spades\n",
      "2 of Hearts\n",
      "2 of Diamonds\n",
      "3 of Clubs\n",
      "3 of Spades\n",
      "3 of Hearts\n",
      "3 of Diamonds\n",
      "4 of Clubs\n",
      "4 of Spades\n",
      "4 of Hearts\n",
      "4 of Diamonds\n",
      "5 of Clubs\n",
      "5 of Spades\n",
      "5 of Hearts\n",
      "5 of Diamonds\n",
      "6 of Clubs\n",
      "6 of Spades\n",
      "6 of Hearts\n",
      "6 of Diamonds\n",
      "7 of Clubs\n",
      "7 of Spades\n",
      "7 of Hearts\n",
      "7 of Diamonds\n",
      "8 of Clubs\n",
      "8 of Spades\n",
      "8 of Hearts\n",
      "8 of Diamonds\n",
      "9 of Clubs\n",
      "9 of Spades\n",
      "9 of Hearts\n",
      "9 of Diamonds\n",
      "10 of Clubs\n",
      "10 of Spades\n",
      "10 of Hearts\n",
      "10 of Diamonds\n",
      "10 of Clubs\n",
      "10 of Spades\n",
      "10 of Hearts\n",
      "10 of Diamonds\n",
      "10 of Clubs\n",
      "10 of Spades\n",
      "10 of Hearts\n",
      "10 of Diamonds\n",
      "10 of Clubs\n",
      "10 of Spades\n",
      "10 of Hearts\n",
      "10 of Diamonds\n",
      "Ace of Clubs\n",
      "Ace of Spades\n",
      "Ace of Hearts\n",
      "Ace of Diamonds\n",
      "2 of Clubs\n",
      "2 of Spades\n",
      "2 of Hearts\n",
      "2 of Diamonds\n",
      "3 of Clubs\n",
      "3 of Spades\n",
      "3 of Hearts\n",
      "3 of Diamonds\n",
      "4 of Clubs\n",
      "4 of Spades\n",
      "4 of Hearts\n",
      "4 of Diamonds\n",
      "5 of Clubs\n",
      "5 of Spades\n",
      "5 of Hearts\n",
      "5 of Diamonds\n",
      "6 of Clubs\n",
      "6 of Spades\n",
      "6 of Hearts\n",
      "6 of Diamonds\n",
      "7 of Clubs\n",
      "7 of Spades\n",
      "7 of Hearts\n",
      "7 of Diamonds\n",
      "8 of Clubs\n",
      "8 of Spades\n",
      "8 of Hearts\n",
      "8 of Diamonds\n",
      "9 of Clubs\n",
      "9 of Spades\n",
      "9 of Hearts\n",
      "9 of Diamonds\n",
      "10 of Clubs\n",
      "10 of Spades\n",
      "10 of Hearts\n",
      "10 of Diamonds\n",
      "10 of Clubs\n",
      "10 of Spades\n",
      "10 of Hearts\n",
      "10 of Diamonds\n",
      "10 of Clubs\n",
      "10 of Spades\n",
      "10 of Hearts\n",
      "10 of Diamonds\n",
      "10 of Clubs\n",
      "10 of Spades\n",
      "10 of Hearts\n",
      "10 of Diamonds\n",
      "Ace of Clubs\n",
      "Ace of Spades\n",
      "Ace of Hearts\n",
      "Ace of Diamonds\n"
     ]
    }
   ],
   "source": [
    "deck.shuffle()\n",
    "print(deck.summary())"
   ]
  },
  {
   "cell_type": "markdown",
   "metadata": {},
   "source": [
    "The `add_card()` function can take in either a single card object or a list of them. I recommend the list."
   ]
  },
  {
   "cell_type": "markdown",
   "metadata": {},
   "source": [
    "## This is far from polished but should be a good place to start"
   ]
  },
  {
   "cell_type": "code",
   "execution_count": 4,
   "metadata": {
    "collapsed": false
   },
   "outputs": [],
   "source": [
    "agents = [blackjacktools.Player() for _ in range(3)] + [blackjacktools.Dealer()]"
   ]
  },
  {
   "cell_type": "code",
   "execution_count": 7,
   "metadata": {
    "collapsed": false
   },
   "outputs": [
    {
     "name": "stdout",
     "output_type": "stream",
     "text": [
      "7 of Diamonds\n",
      "147\n",
      "[(3, 'Clubs'), (9, 'Hearts'), (7, 'Diamonds')]\n",
      "4 of Clubs\n",
      "146\n",
      "[(10, 'Diamonds'), (10, 'Hearts'), (4, 'Clubs')]\n",
      "Ace of Clubs\n",
      "145\n",
      "[(4, 'Clubs'), (10, 'Spades'), ('Ace', 'Clubs')]\n",
      "6 of Hearts\n",
      "144\n",
      "[(10, 'Clubs'), (10, 'Clubs'), (6, 'Hearts')]\n",
      "10 of Hearts\n",
      "143\n",
      "[(3, 'Clubs'), (9, 'Hearts'), (7, 'Diamonds'), (10, 'Hearts')]\n",
      "10 of Clubs\n",
      "142\n",
      "[(10, 'Diamonds'), (10, 'Hearts'), (4, 'Clubs'), (10, 'Clubs')]\n",
      "10 of Spades\n",
      "141\n",
      "[(4, 'Clubs'), (10, 'Spades'), ('Ace', 'Clubs'), (10, 'Spades')]\n",
      "2 of Hearts\n",
      "140\n",
      "[(10, 'Clubs'), (10, 'Clubs'), (6, 'Hearts'), (2, 'Hearts')]\n"
     ]
    }
   ],
   "source": [
    "for n in range(2):\n",
    "    for x in agents:\n",
    "        card = deck.deal()\n",
    "        print(card)\n",
    "        x.add_card(card)\n",
    "        print(len(deck))\n",
    "        print([c.info() for c in x.hand])"
   ]
  },
  {
   "cell_type": "code",
   "execution_count": 8,
   "metadata": {
    "collapsed": false
   },
   "outputs": [
    {
     "name": "stdout",
     "output_type": "stream",
     "text": [
      "[(3, 'Clubs'), (9, 'Hearts'), (7, 'Diamonds'), (10, 'Hearts')]\n",
      "29\n",
      "0\n",
      "[(10, 'Diamonds'), (10, 'Hearts'), (4, 'Clubs'), (10, 'Clubs')]\n",
      "34\n",
      "-2\n",
      "[(4, 'Clubs'), (10, 'Spades'), ('Ace', 'Clubs'), (10, 'Spades')]\n",
      "25\n",
      "-2\n",
      "[(10, 'Clubs'), (10, 'Clubs'), (6, 'Hearts'), (2, 'Hearts')]\n",
      "28\n",
      "0\n"
     ]
    }
   ],
   "source": [
    "for x in agents:\n",
    "    print([c.info() for c in x.hand])\n",
    "    print(x.get_score())\n",
    "    print(x.get_count())"
   ]
  },
  {
   "cell_type": "code",
   "execution_count": null,
   "metadata": {
    "collapsed": false
   },
   "outputs": [],
   "source": [
    "[x.clear_hand() for x in agents]"
   ]
  },
  {
   "cell_type": "code",
   "execution_count": null,
   "metadata": {
    "collapsed": false
   },
   "outputs": [],
   "source": [
    "for x in agents:\n",
    "    print(x.get_score())"
   ]
  },
  {
   "cell_type": "code",
   "execution_count": null,
   "metadata": {
    "collapsed": false
   },
   "outputs": [],
   "source": [
    "print(deck.deal())"
   ]
  },
  {
   "cell_type": "code",
   "execution_count": null,
   "metadata": {
    "collapsed": true
   },
   "outputs": [],
   "source": []
  }
 ],
 "metadata": {
  "kernelspec": {
   "display_name": "Python 3",
   "language": "python",
   "name": "python3"
  },
  "language_info": {
   "codemirror_mode": {
    "name": "ipython",
    "version": 3
   },
   "file_extension": ".py",
   "mimetype": "text/x-python",
   "name": "python",
   "nbconvert_exporter": "python",
   "pygments_lexer": "ipython3",
   "version": "3.5.1"
  }
 },
 "nbformat": 4,
 "nbformat_minor": 0
}
