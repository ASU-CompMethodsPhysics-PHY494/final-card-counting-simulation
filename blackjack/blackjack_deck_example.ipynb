{
 "cells": [
  {
   "cell_type": "code",
   "execution_count": 26,
   "metadata": {
    "collapsed": true
   },
   "outputs": [],
   "source": [
    "import blackjacktools"
   ]
  },
  {
   "cell_type": "markdown",
   "metadata": {},
   "source": [
    "Created deck and card objects. No need to deal with shit you don't need to."
   ]
  },
  {
   "cell_type": "code",
   "execution_count": 27,
   "metadata": {
    "collapsed": false
   },
   "outputs": [],
   "source": [
    "deck = blackjacktools.Deck()"
   ]
  },
  {
   "cell_type": "markdown",
   "metadata": {},
   "source": [
    "The deck object type will handle operations with cards. You might want to customize the classes a bit further in `blackjacktools.py`.\n",
    "\n",
    "Below, I created a 52 card deck. The syntax should be pretty clear. If not let me know by email. I am in a library..."
   ]
  },
  {
   "cell_type": "code",
   "execution_count": 28,
   "metadata": {
    "collapsed": false
   },
   "outputs": [],
   "source": [
    "cards = []\n",
    "for x in list(range(2,11)) + [\"Jack\",\"Queen\",\"King\",\"Ace\"]:\n",
    "    for y in [\"Clubs\",\"Spades\",\"Hearts\",\"Diamonds\"]:\n",
    "        cards.append(blackjacktools.Card(x,y))"
   ]
  },
  {
   "cell_type": "code",
   "execution_count": 29,
   "metadata": {
    "collapsed": false
   },
   "outputs": [
    {
     "name": "stdout",
     "output_type": "stream",
     "text": [
      "(2, 'Clubs')\n",
      "(2, 'Spades')\n",
      "(2, 'Hearts')\n",
      "(2, 'Diamonds')\n",
      "(3, 'Clubs')\n",
      "(3, 'Spades')\n",
      "(3, 'Hearts')\n",
      "(3, 'Diamonds')\n",
      "(4, 'Clubs')\n",
      "(4, 'Spades')\n",
      "(4, 'Hearts')\n",
      "(4, 'Diamonds')\n",
      "(5, 'Clubs')\n",
      "(5, 'Spades')\n",
      "(5, 'Hearts')\n",
      "(5, 'Diamonds')\n",
      "(6, 'Clubs')\n",
      "(6, 'Spades')\n",
      "(6, 'Hearts')\n",
      "(6, 'Diamonds')\n",
      "(7, 'Clubs')\n",
      "(7, 'Spades')\n",
      "(7, 'Hearts')\n",
      "(7, 'Diamonds')\n",
      "(8, 'Clubs')\n",
      "(8, 'Spades')\n",
      "(8, 'Hearts')\n",
      "(8, 'Diamonds')\n",
      "(9, 'Clubs')\n",
      "(9, 'Spades')\n",
      "(9, 'Hearts')\n",
      "(9, 'Diamonds')\n",
      "(10, 'Clubs')\n",
      "(10, 'Spades')\n",
      "(10, 'Hearts')\n",
      "(10, 'Diamonds')\n",
      "('Jack', 'Clubs')\n",
      "('Jack', 'Spades')\n",
      "('Jack', 'Hearts')\n",
      "('Jack', 'Diamonds')\n",
      "('Queen', 'Clubs')\n",
      "('Queen', 'Spades')\n",
      "('Queen', 'Hearts')\n",
      "('Queen', 'Diamonds')\n",
      "('King', 'Clubs')\n",
      "('King', 'Spades')\n",
      "('King', 'Hearts')\n",
      "('King', 'Diamonds')\n",
      "('Ace', 'Clubs')\n",
      "('Ace', 'Spades')\n",
      "('Ace', 'Hearts')\n",
      "('Ace', 'Diamonds')\n"
     ]
    }
   ],
   "source": [
    "for c in cards:\n",
    "    print(c.info())"
   ]
  },
  {
   "cell_type": "markdown",
   "metadata": {},
   "source": [
    "The `add_card()` function can take in either a single card object or a list of them. I recommend the list."
   ]
  },
  {
   "cell_type": "code",
   "execution_count": 30,
   "metadata": {
    "collapsed": false
   },
   "outputs": [],
   "source": [
    "deck.add_card(cards)"
   ]
  },
  {
   "cell_type": "code",
   "execution_count": 31,
   "metadata": {
    "collapsed": false
   },
   "outputs": [
    {
     "name": "stdout",
     "output_type": "stream",
     "text": [
      "Number of Cards: 52\n",
      "2 of Clubs\n",
      "2 of Spades\n",
      "2 of Hearts\n",
      "2 of Diamonds\n",
      "3 of Clubs\n",
      "3 of Spades\n",
      "3 of Hearts\n",
      "3 of Diamonds\n",
      "4 of Clubs\n",
      "4 of Spades\n",
      "4 of Hearts\n",
      "4 of Diamonds\n",
      "5 of Clubs\n",
      "5 of Spades\n",
      "5 of Hearts\n",
      "5 of Diamonds\n",
      "6 of Clubs\n",
      "6 of Spades\n",
      "6 of Hearts\n",
      "6 of Diamonds\n",
      "7 of Clubs\n",
      "7 of Spades\n",
      "7 of Hearts\n",
      "7 of Diamonds\n",
      "8 of Clubs\n",
      "8 of Spades\n",
      "8 of Hearts\n",
      "8 of Diamonds\n",
      "9 of Clubs\n",
      "9 of Spades\n",
      "9 of Hearts\n",
      "9 of Diamonds\n",
      "10 of Clubs\n",
      "10 of Spades\n",
      "10 of Hearts\n",
      "10 of Diamonds\n",
      "Jack of Clubs\n",
      "Jack of Spades\n",
      "Jack of Hearts\n",
      "Jack of Diamonds\n",
      "Queen of Clubs\n",
      "Queen of Spades\n",
      "Queen of Hearts\n",
      "Queen of Diamonds\n",
      "King of Clubs\n",
      "King of Spades\n",
      "King of Hearts\n",
      "King of Diamonds\n",
      "Ace of Clubs\n",
      "Ace of Spades\n",
      "Ace of Hearts\n",
      "Ace of Diamonds\n"
     ]
    }
   ],
   "source": [
    "print(deck.summary())"
   ]
  },
  {
   "cell_type": "code",
   "execution_count": 33,
   "metadata": {
    "collapsed": false,
    "scrolled": true
   },
   "outputs": [
    {
     "name": "stdout",
     "output_type": "stream",
     "text": [
      "Dealt Card:  Jack of Spades \tCards Left:  49\n",
      "Dealt Card:  Ace of Hearts \tCards Left:  48\n"
     ]
    }
   ],
   "source": [
    "for x in range(2):\n",
    "    print(\"Dealt Card: \",deck.deal(),\"\\tCards Left: \",len(deck))"
   ]
  },
  {
   "cell_type": "markdown",
   "metadata": {},
   "source": [
    "## This is far from polished but should be a good place to start"
   ]
  },
  {
   "cell_type": "code",
   "execution_count": null,
   "metadata": {
    "collapsed": true
   },
   "outputs": [],
   "source": []
  }
 ],
 "metadata": {
  "kernelspec": {
   "display_name": "Python 3",
   "language": "python",
   "name": "python3"
  },
  "language_info": {
   "codemirror_mode": {
    "name": "ipython",
    "version": 3
   },
   "file_extension": ".py",
   "mimetype": "text/x-python",
   "name": "python",
   "nbconvert_exporter": "python",
   "pygments_lexer": "ipython3",
   "version": "3.5.1"
  }
 },
 "nbformat": 4,
 "nbformat_minor": 0
}
